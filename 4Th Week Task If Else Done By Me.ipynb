{
 "cells": [
  {
   "cell_type": "raw",
   "metadata": {},
   "source": [
    "1) A company decided to give bonus of 5% to employee if his/her year of service is more than 5 years.\n",
    "Ask user for their salary and year of service and print the net bonus amount."
   ]
  },
  {
   "cell_type": "code",
   "execution_count": 23,
   "metadata": {},
   "outputs": [
    {
     "name": "stdout",
     "output_type": "stream",
     "text": [
      "Write Service Years = 10\n",
      "Write Sallery = 200000\n",
      "Your Bonus Is 10000 RS\n"
     ]
    }
   ],
   "source": [
    "#Type your code here\n",
    "Service_years = int(input(\"Write Service Years = \"))\n",
    "Sallery = int(input(\"Write Sallery = \"))\n",
    "bonus = Sallery//100*5\n",
    "\n",
    "if Service_years>=5:\n",
    "\n",
    "    print(\"Your Bonus Is \" + str(bonus) + \" RS\")\n",
    "\n",
    "else:\n",
    "\n",
    "    print(\"You Are Not Eligible For Bonus\")\n"
   ]
  },
  {
   "cell_type": "markdown",
   "metadata": {},
   "source": [
    "\n",
    "2) Write a program to check whether a person is eligible for voting or not. (accept age from user)"
   ]
  },
  {
   "cell_type": "code",
   "execution_count": 26,
   "metadata": {},
   "outputs": [
    {
     "name": "stdout",
     "output_type": "stream",
     "text": [
      "Write Your Age = 22\n",
      "You Are Eligible For Voting\n"
     ]
    }
   ],
   "source": [
    "#Type your code here\n",
    "Age = int(input(\"Write Your Age = \"))\n",
    "\n",
    "if Age >= 18 :\n",
    "    print(\"You Are Eligible For Voting\")\n",
    "else :\n",
    "    print(\"You Are Not Eligible For Voting\")"
   ]
  },
  {
   "cell_type": "markdown",
   "metadata": {},
   "source": [
    "\n",
    "3) Write a program to check whether a number entered by user is even or odd."
   ]
  },
  {
   "cell_type": "code",
   "execution_count": 32,
   "metadata": {},
   "outputs": [
    {
     "name": "stdout",
     "output_type": "stream",
     "text": [
      "Write A No = 2\n",
      "II IS EVEN\n"
     ]
    }
   ],
   "source": [
    "#Type your code here\n",
    "No = int(input(\"Write A No = \"))\n",
    "if(No % 2) == 0 :\n",
    "    print(\"II IS EVEN\")\n",
    "else :\n",
    "    print(\"ITS ODD\")"
   ]
  },
  {
   "cell_type": "markdown",
   "metadata": {},
   "source": [
    "4) Write a program to check whether a number is divisible by 7 or not.\n",
    "Show Answer"
   ]
  },
  {
   "cell_type": "code",
   "execution_count": 36,
   "metadata": {},
   "outputs": [
    {
     "name": "stdout",
     "output_type": "stream",
     "text": [
      "Write A No = 49\n",
      "Your No Is 49\n",
      "II IS DIVISIBLE BY 7\n"
     ]
    }
   ],
   "source": [
    "#Type your code here\n",
    "No = int(input(\"Write A No = \"))\n",
    "if(No // 7 ) :\n",
    "    print(f\"Your No Is {No}\"  )\n",
    "    print(\"II IS DIVISIBLE BY 7\")\n",
    "else :\n",
    "    print(\"ITS IS NOT DIVISIBLE BY 7\")"
   ]
  },
  {
   "cell_type": "raw",
   "metadata": {},
   "source": [
    "5) Write a program to display \n",
    "\"Hello\" if a number entered by user is a multiple of five , otherwise print \"Bye\"."
   ]
  },
  {
   "cell_type": "code",
   "execution_count": 30,
   "metadata": {},
   "outputs": [
    {
     "name": "stdout",
     "output_type": "stream",
     "text": [
      "Hello\n",
      "Write A No = 25\n",
      "Your No Is 25\n",
      "II IS Multiple Of 5\n"
     ]
    }
   ],
   "source": [
    "#Type your code here\n",
    "\n",
    "No = int(input(\"Write A No = \"))\n",
    "if(No % 5 == 0) :\n",
    "    print(f\"Your No Is {No}\"  )\n",
    "    print(\"IT IS Multiple Of 5\")\n",
    "else :\n",
    "    print(\"Bye\")"
   ]
  },
  {
   "cell_type": "raw",
   "metadata": {},
   "source": [
    "6) Write a program to calculate the electricity bill (accept number of unit from user) according to the following criteria :\n",
    "     Unit                                                     Price  \n",
    "uptp 100 units                                             no charge\n",
    "Next 200 units                                              Rs 5 per unit\n",
    "After 200 units                                             Rs 10 per unit\n",
    "(For example if input unit is 350 than total bill amount is Rs.3500\n",
    "(For example if input unit is 97 than total bill amount is Rs.0\n",
    "(For example if input unit is 150 than total bill amount is Rs.750"
   ]
  },
  {
   "cell_type": "code",
   "execution_count": 5,
   "metadata": {},
   "outputs": [
    {
     "name": "stdout",
     "output_type": "stream",
     "text": [
      "Write How Many Unit On A Bill = 120\n",
      "input unit is 20 than total bill amount is = 100\n"
     ]
    }
   ],
   "source": [
    "#Type your code here\n",
    "\n",
    "Total_unit = int(input(\"Write How Many Unit On A Bill = \"))\n",
    "\n",
    "if(Total_unit <= 100) :\n",
    "    print(\"input unit is {Total_unit} than total bill amount is = 0\")\n",
    "elif(Total_unit>100 and Total_unit<=200) :\n",
    "    Total_unit = Total_unit - 100\n",
    "    for200 = Total_unit * 5\n",
    "    print(f\"input unit is {Total_unit} than total bill amount is = {for200}\")\n",
    "elif(Total_unit>200 ) :\n",
    "    Total_unit = Total_unit - 200\n",
    "    for300 = (Total_unit * 10) + (500)\n",
    "    print(f\"input unit is {Total_unit} than total bill amount is = {for300}\")\n",
    "else :\n",
    "    None\n",
    "    \n",
    " #   Total_unit = int(input(\"Write How Many Unit On A Bill = \"))\n",
    "    \n",
    "  #  if(Total_unit < 100)\n",
    "  #  print(\"Your Bill Is Free\")\n",
    "   # elif(Total_unit >= 100 and Total_unit <200)\n",
    "   # Total_unit = (Total_unit - 100) * 5 \n",
    "   # print(\"Your Bill Is Free\")\n",
    "   # elif(Total_unit >= 200 )\n",
    "   # Total_unit = (Total_unit - 100)\n",
    "   # Total_unit = (5 * 100)\n",
    "    \n",
    "   # print(\"Your Bill Is Free\")\n",
    "    "
   ]
  },
  {
   "cell_type": "raw",
   "metadata": {},
   "source": [
    "7) Write a program to display the last digit of a number.\n"
   ]
  },
  {
   "cell_type": "code",
   "execution_count": 10,
   "metadata": {},
   "outputs": [
    {
     "name": "stdout",
     "output_type": "stream",
     "text": [
      "Write A No = 12345678901\n"
     ]
    },
    {
     "data": {
      "text/plain": [
       "1"
      ]
     },
     "execution_count": 10,
     "metadata": {},
     "output_type": "execute_result"
    }
   ],
   "source": [
    "#Type your code here\n",
    "No = int(input(\"Write A No = \"))\n",
    "\n",
    "No = No % 10\n",
    "No"
   ]
  },
  {
   "cell_type": "raw",
   "metadata": {},
   "source": [
    "\n",
    "Q8. Write a program to check whether the last digit of a number( entered by user ) is \n",
    "divisible by 3 or not."
   ]
  },
  {
   "cell_type": "code",
   "execution_count": 45,
   "metadata": {},
   "outputs": [
    {
     "name": "stdout",
     "output_type": "stream",
     "text": [
      "Divisible By 3\n"
     ]
    }
   ],
   "source": [
    "#Type your code here\n",
    "\n",
    "if int(No) % 3 == 0 :\n",
    "    print(\"Divisible By 3\")\n",
    "\n",
    "else :\n",
    "    print(\"Not Divisible By 3\")\n"
   ]
  },
  {
   "cell_type": "raw",
   "metadata": {},
   "source": [
    "9) Take values of length and breadth of a rectangle from user and check if it is square or not."
   ]
  },
  {
   "cell_type": "code",
   "execution_count": 52,
   "metadata": {},
   "outputs": [
    {
     "name": "stdout",
     "output_type": "stream",
     "text": [
      "Write Height Of Box = 5\n",
      "Write Width Of Box = 5\n",
      "ITS A SQUARE\n"
     ]
    }
   ],
   "source": [
    "#Type your code here \n",
    "height = int(input(\"Write Height Of Box = \"))\n",
    "width = int(input(\"Write Width Of Box = \"))\n",
    "if(height == width):\n",
    "    print(\"ITS A SQUARE\")\n",
    "elif(height != width ):\n",
    "    print(\"ITS A Rectangle\")\n",
    "    "
   ]
  },
  {
   "cell_type": "raw",
   "metadata": {},
   "source": [
    "10) Take two int values from user and print greatest among them."
   ]
  },
  {
   "cell_type": "code",
   "execution_count": 4,
   "metadata": {},
   "outputs": [
    {
     "name": "stdout",
     "output_type": "stream",
     "text": [
      "Write First No = 60\n",
      "Write Second No = 70\n",
      "Greatest No in Between 60 and 70 Is 70\n"
     ]
    }
   ],
   "source": [
    "# Type your code here\n",
    "No1 = int(input(\"Write First No = \"))\n",
    "No2 = int(input(\"Write Second No = \"))\n",
    "max_value = max(No1,No2)\n",
    "print(f\"Greatest No in Between {No1} and {No2} Is {max_value}\")"
   ]
  },
  {
   "cell_type": "code",
   "execution_count": 5,
   "metadata": {},
   "outputs": [
    {
     "name": "stdout",
     "output_type": "stream",
     "text": [
      "70 Is Greater Than No 60\n"
     ]
    }
   ],
   "source": [
    "if(No1>No2):\n",
    "    print(f\"\"\"{No1} Is Greater Than No {No2}\"\"\")\n",
    "elif(No2>No1):\n",
    "    print(f\"\"\"{No2} Is Greater Than No {No1}\"\"\")"
   ]
  },
  {
   "cell_type": "raw",
   "metadata": {},
   "source": [
    "11) A shop will give discount of 10% if the cost of purchased quantity is more than 1000.\n",
    "Ask user for quantity\n",
    "Suppose, one unit will cost 100.\n",
    "Judge and print total cost for user."
   ]
  },
  {
   "cell_type": "code",
   "execution_count": 65,
   "metadata": {},
   "outputs": [
    {
     "name": "stdout",
     "output_type": "stream",
     "text": [
      "Write A Amount You Are Going To Purchase For Discount = 1200\n",
      "Discount Price = 120\n",
      "Total With Discount = 1080\n"
     ]
    }
   ],
   "source": [
    "#Type your code here\n",
    "Quantity = int(input(\"Write A Amount You Are Going To Purchase For Discount = \"))\n",
    "if Quantity >= 1000:\n",
    "    Discount =  (Quantity // 100) * 10\n",
    "    Quantity = Quantity - Discount\n",
    "else :\n",
    "    Discount = \"You Dont Follow The Discount Criteria\"\n",
    "    \n",
    "print(\"Discount Price = \" + str(Discount))\n",
    "print(\"Total With Discount = \" + str(Quantity))"
   ]
  },
  {
   "cell_type": "raw",
   "metadata": {},
   "source": [
    "12) A school has following rules for grading system:\n",
    "\n",
    "a. Below 25 - F\n",
    "\n",
    "b. 25 to 45 - E\n",
    "\n",
    "c. 45 to 50 - D\n",
    "\n",
    "d. 50 to 60 - C\n",
    "\n",
    "e. 60 to 80 - B\n",
    "\n",
    "f. Above 80 - A\n",
    "\n",
    "Ask user to enter marks and print the corresponding grade."
   ]
  },
  {
   "cell_type": "code",
   "execution_count": 72,
   "metadata": {},
   "outputs": [
    {
     "name": "stdout",
     "output_type": "stream",
     "text": [
      "Write Marks Of Math = 98\n",
      "Write Marks Of English = 87\n",
      "Write Marks Of Urdu = 89\n",
      "Write Marks Of Islamiat = 87\n",
      "Write Marks Of Physics = 76\n",
      "\n",
      "==================================\n",
      "           Result Card\n",
      "==================================\n",
      "\n",
      "       Marks Of Math = 98\n",
      "       Marks Of English = 87\n",
      "       Marks Of Urdu = 89\n",
      "       Marks Of Islamiat= 87\n",
      "       Marks Of Physics = 76\n",
      "       \n",
      "       OBTAIN MARKS = 437\n",
      "       PERCENTAGE = 87.4\n",
      "       GRADE = A\n",
      "       \n",
      "    \n",
      "\n",
      "\n"
     ]
    }
   ],
   "source": [
    "#Type your code here\n",
    "\n",
    "grade = None\n",
    "ma = int(input(\"Write Marks Of Math = \"))\n",
    "en = int(input(\"Write Marks Of English = \"))\n",
    "ur = int(input(\"Write Marks Of Urdu = \"))\n",
    "isl = int(input(\"Write Marks Of Islamiat = \"))\n",
    "phy = int(input(\"Write Marks Of Physics = \"))\n",
    "\n",
    "obt = ma+en+ur+isl+phy\n",
    "\n",
    "per = obt/500*100\n",
    "\n",
    "if per>=80:\n",
    "    grade = \"A\"\n",
    "    \n",
    "elif per>=60:\n",
    "    grade = \"B\"\n",
    "    \n",
    "elif per>=50:\n",
    "    grade = \"C\"\n",
    "            \n",
    "elif per>=45:\n",
    "    grade = \"D\"\n",
    "\n",
    "elif per>=25:\n",
    "    grade = \"E\"\n",
    "                    \n",
    "else:\n",
    "    grade = \"Fail\"\n",
    "    \n",
    "print(f\"\"\"\n",
    "==================================\n",
    "           Result Card\n",
    "==================================\n",
    "\n",
    "       Marks Of Math = {ma}\n",
    "       Marks Of English = {en}\n",
    "       Marks Of Urdu = {ur}\n",
    "       Marks Of Islamiat= {isl}\n",
    "       Marks Of Physics = {phy}\n",
    "       \n",
    "       OBTAIN MARKS = {obt}\n",
    "       PERCENTAGE = {per}\n",
    "       GRADE = {grade}\n",
    "       \n",
    "    \n",
    "\n",
    "\"\"\")"
   ]
  },
  {
   "cell_type": "raw",
   "metadata": {},
   "source": [
    "13) Take input of age of 3 people by user and determine oldest and youngest among them."
   ]
  },
  {
   "cell_type": "code",
   "execution_count": 75,
   "metadata": {},
   "outputs": [
    {
     "name": "stdout",
     "output_type": "stream",
     "text": [
      "Write Age Of First Person = 23\n",
      "Write Age Of Second Person = 45\n",
      "Write Age Of Third Person = 78\n",
      "Youngest Person Is 23 Years Old\n",
      "Oldest Person Is 78 Years Old\n"
     ]
    }
   ],
   "source": [
    "#Type your code here\n",
    "No1 = int(input(\"Write Age Of First Person = \"))\n",
    "No2 = int(input(\"Write Age Of Second Person = \"))\n",
    "No3 = int(input(\"Write Age Of Third Person = \"))\n",
    "Youngest = min(No1,No2,No3)\n",
    "Oldest = max(No1,No2,No3)\n",
    "print(f\"Youngest Person Is {Youngest} Years Old\")\n",
    "print(f\"Oldest Person Is {Oldest} Years Old\" )"
   ]
  },
  {
   "cell_type": "raw",
   "metadata": {},
   "source": [
    "14)A student will not be allowed to sit in exam if his/her attendence is less than 75%.\n",
    "\n",
    "Take following input from user\n",
    "\n",
    "Number of classes held\n",
    "\n",
    "Number of classes attended.\n",
    "\n",
    "And print\n",
    "\n",
    "percentage of class attended\n",
    "\n",
    "Is student is allowed to sit in exam or not.\n"
   ]
  },
  {
   "cell_type": "code",
   "execution_count": 7,
   "metadata": {},
   "outputs": [
    {
     "ename": "KeyboardInterrupt",
     "evalue": "Interrupted by user",
     "output_type": "error",
     "traceback": [
      "\u001b[1;31m---------------------------------------------------------------------------\u001b[0m",
      "\u001b[1;31mKeyboardInterrupt\u001b[0m                         Traceback (most recent call last)",
      "Input \u001b[1;32mIn [7]\u001b[0m, in \u001b[0;36m<cell line: 2>\u001b[1;34m()\u001b[0m\n\u001b[0;32m      1\u001b[0m \u001b[38;5;66;03m#Type your code here\u001b[39;00m\n\u001b[1;32m----> 2\u001b[0m classes_held \u001b[38;5;241m=\u001b[39m \u001b[38;5;28mint\u001b[39m(\u001b[38;5;28;43minput\u001b[39;49m\u001b[43m(\u001b[49m\u001b[38;5;124;43m\"\u001b[39;49m\u001b[38;5;124;43mTotal Classes = \u001b[39;49m\u001b[38;5;124;43m\"\u001b[39;49m\u001b[43m)\u001b[49m)\n\u001b[0;32m      3\u001b[0m classes_attended \u001b[38;5;241m=\u001b[39m \u001b[38;5;28mint\u001b[39m(\u001b[38;5;28minput\u001b[39m(\u001b[38;5;124m\"\u001b[39m\u001b[38;5;124mClasses Taken  = \u001b[39m\u001b[38;5;124m\"\u001b[39m))\n\u001b[0;32m      4\u001b[0m per \u001b[38;5;241m=\u001b[39m classes_attended \u001b[38;5;241m/\u001b[39m classes_held \u001b[38;5;241m*\u001b[39m \u001b[38;5;241m100\u001b[39m\n",
      "File \u001b[1;32m~\\anaconda3\\lib\\site-packages\\ipykernel\\kernelbase.py:1075\u001b[0m, in \u001b[0;36mKernel.raw_input\u001b[1;34m(self, prompt)\u001b[0m\n\u001b[0;32m   1071\u001b[0m \u001b[38;5;28;01mif\u001b[39;00m \u001b[38;5;129;01mnot\u001b[39;00m \u001b[38;5;28mself\u001b[39m\u001b[38;5;241m.\u001b[39m_allow_stdin:\n\u001b[0;32m   1072\u001b[0m     \u001b[38;5;28;01mraise\u001b[39;00m StdinNotImplementedError(\n\u001b[0;32m   1073\u001b[0m         \u001b[38;5;124m\"\u001b[39m\u001b[38;5;124mraw_input was called, but this frontend does not support input requests.\u001b[39m\u001b[38;5;124m\"\u001b[39m\n\u001b[0;32m   1074\u001b[0m     )\n\u001b[1;32m-> 1075\u001b[0m \u001b[38;5;28;01mreturn\u001b[39;00m \u001b[38;5;28;43mself\u001b[39;49m\u001b[38;5;241;43m.\u001b[39;49m\u001b[43m_input_request\u001b[49m\u001b[43m(\u001b[49m\n\u001b[0;32m   1076\u001b[0m \u001b[43m    \u001b[49m\u001b[38;5;28;43mstr\u001b[39;49m\u001b[43m(\u001b[49m\u001b[43mprompt\u001b[49m\u001b[43m)\u001b[49m\u001b[43m,\u001b[49m\n\u001b[0;32m   1077\u001b[0m \u001b[43m    \u001b[49m\u001b[38;5;28;43mself\u001b[39;49m\u001b[38;5;241;43m.\u001b[39;49m\u001b[43m_parent_ident\u001b[49m\u001b[43m[\u001b[49m\u001b[38;5;124;43m\"\u001b[39;49m\u001b[38;5;124;43mshell\u001b[39;49m\u001b[38;5;124;43m\"\u001b[39;49m\u001b[43m]\u001b[49m\u001b[43m,\u001b[49m\n\u001b[0;32m   1078\u001b[0m \u001b[43m    \u001b[49m\u001b[38;5;28;43mself\u001b[39;49m\u001b[38;5;241;43m.\u001b[39;49m\u001b[43mget_parent\u001b[49m\u001b[43m(\u001b[49m\u001b[38;5;124;43m\"\u001b[39;49m\u001b[38;5;124;43mshell\u001b[39;49m\u001b[38;5;124;43m\"\u001b[39;49m\u001b[43m)\u001b[49m\u001b[43m,\u001b[49m\n\u001b[0;32m   1079\u001b[0m \u001b[43m    \u001b[49m\u001b[43mpassword\u001b[49m\u001b[38;5;241;43m=\u001b[39;49m\u001b[38;5;28;43;01mFalse\u001b[39;49;00m\u001b[43m,\u001b[49m\n\u001b[0;32m   1080\u001b[0m \u001b[43m\u001b[49m\u001b[43m)\u001b[49m\n",
      "File \u001b[1;32m~\\anaconda3\\lib\\site-packages\\ipykernel\\kernelbase.py:1120\u001b[0m, in \u001b[0;36mKernel._input_request\u001b[1;34m(self, prompt, ident, parent, password)\u001b[0m\n\u001b[0;32m   1117\u001b[0m             \u001b[38;5;28;01mbreak\u001b[39;00m\n\u001b[0;32m   1118\u001b[0m \u001b[38;5;28;01mexcept\u001b[39;00m \u001b[38;5;167;01mKeyboardInterrupt\u001b[39;00m:\n\u001b[0;32m   1119\u001b[0m     \u001b[38;5;66;03m# re-raise KeyboardInterrupt, to truncate traceback\u001b[39;00m\n\u001b[1;32m-> 1120\u001b[0m     \u001b[38;5;28;01mraise\u001b[39;00m \u001b[38;5;167;01mKeyboardInterrupt\u001b[39;00m(\u001b[38;5;124m\"\u001b[39m\u001b[38;5;124mInterrupted by user\u001b[39m\u001b[38;5;124m\"\u001b[39m) \u001b[38;5;28;01mfrom\u001b[39;00m \u001b[38;5;28mNone\u001b[39m\n\u001b[0;32m   1121\u001b[0m \u001b[38;5;28;01mexcept\u001b[39;00m \u001b[38;5;167;01mException\u001b[39;00m:\n\u001b[0;32m   1122\u001b[0m     \u001b[38;5;28mself\u001b[39m\u001b[38;5;241m.\u001b[39mlog\u001b[38;5;241m.\u001b[39mwarning(\u001b[38;5;124m\"\u001b[39m\u001b[38;5;124mInvalid Message:\u001b[39m\u001b[38;5;124m\"\u001b[39m, exc_info\u001b[38;5;241m=\u001b[39m\u001b[38;5;28;01mTrue\u001b[39;00m)\n",
      "\u001b[1;31mKeyboardInterrupt\u001b[0m: Interrupted by user"
     ]
    }
   ],
   "source": [
    "#Type your code here\n",
    "classes_held = int(input(\"Total Classes = \"))\n",
    "classes_attended = int(input(\"Classes Taken  = \"))\n",
    "per = classes_attended / classes_held * 100\n",
    "if per>=75:\n",
    "    print(\"You Are Allowed To Sit In Exam\")\n",
    "else :\n",
    "    print(\"You Are Not Allowed To Sit In Exam\")\n",
    "    "
   ]
  },
  {
   "cell_type": "raw",
   "metadata": {},
   "source": [
    "15) Modify the above question to allow student to sit if he/she has medical cause. Ask user if he/she has medical cause or not ( 'Y' or 'N' ) and print accordingly."
   ]
  },
  {
   "cell_type": "code",
   "execution_count": 100,
   "metadata": {},
   "outputs": [
    {
     "name": "stdout",
     "output_type": "stream",
     "text": [
      "Total Classes = 12\n",
      "Classes Taken  = 6\n",
      "Do You Have Any Medical Problem Y/N  = Y\n",
      "You Are Allowed To Sit In Exam\n"
     ]
    }
   ],
   "source": [
    "#Type your code here\n",
    "classes_held = int(input(\"Total Classes = \"))\n",
    "classes_attended = int(input(\"Classes Taken  = \"))\n",
    "medical_cause = input(\"Do You Have Any Medical Problem Y/N  = \")\n",
    "per = classes_attended / classes_held * 100\n",
    "if per>=75 or medical_cause == \"Y\" :\n",
    "    print(\"You Are Allowed To Sit In Exam\")\n",
    "else :\n",
    "    print(\"You Are Not Allowed To Sit In Exam\")\n",
    "    "
   ]
  },
  {
   "cell_type": "raw",
   "metadata": {},
   "source": [
    "16) Write a program to check if a year is leap year or not.\n",
    "\n",
    "If a year is divisible by 4 then it is leap year but if the year is century year like 2000, 1900, 2100 then it must be divisible by 400."
   ]
  },
  {
   "cell_type": "code",
   "execution_count": 4,
   "metadata": {},
   "outputs": [
    {
     "name": "stdout",
     "output_type": "stream",
     "text": [
      "Write A Yesr I will tell you it is leap year or not = 1948\n",
      "its a leap year\n"
     ]
    }
   ],
   "source": [
    "#Type your code here\n",
    "Year = int(input(\"Write A Yesr I will tell you it is leap year or not = \"))\n",
    "if(Year % 4 == 0):\n",
    "    print(\"its a leap year\")\n",
    "elif(Year % 400 == 0):\n",
    "    print(\"its a century\")\n",
    "else:\n",
    "    print(\"Its Not A Century Or Nor A Leap Year\")"
   ]
  },
  {
   "cell_type": "raw",
   "metadata": {},
   "source": [
    "17) Ask user to enter age, gender ( M or F ), marital status ( Y or N ) and then using following rules print their place of service.\n",
    "\n",
    "if employee is female, then she will work only in urban areas.\n",
    "\n",
    "if employee is a male and age is in between 20 to 40 then he may work in anywhere\n",
    "\n",
    "if employee is male and age is in between 40 t0 60 then he will work in urban areas only.\n",
    "\n",
    "And any other input of age should print \"ERROR\""
   ]
  },
  {
   "cell_type": "code",
   "execution_count": 9,
   "metadata": {},
   "outputs": [
    {
     "name": "stdout",
     "output_type": "stream",
     "text": [
      "Write Age = 50\n",
      "Write Gender M/F = m\n",
      "Write Martial Status Y/N = n\n",
      " He Can Only work in urban areas\n"
     ]
    }
   ],
   "source": [
    "#Type your code here\n",
    "Age = int(input(\"Write Age = \"))\n",
    "Gender = input(\"Write Gender M/F = \").lower()\n",
    "Martial = input(\"Write Martial Status Y/N = \").lower()\n",
    "if Gender == \"f\":\n",
    "    print(\" She Can Only work in urban areas\")\n",
    "elif Gender == \"m\" and Age>=20 and Age<40:\n",
    "    print(\" You Can work Any Where\")\n",
    "elif Gender== \"m\" and Age>=40 and Age<60:\n",
    "    print(\" He Can Only work in urban areas\")\n",
    "else :\n",
    "    print(\"ERROR\")\n",
    "    "
   ]
  },
  {
   "cell_type": "code",
   "execution_count": 39,
   "metadata": {},
   "outputs": [],
   "source": [
    "User_id = \"Altamash@gmail.com\"\n",
    "User_pass = \"abc123\""
   ]
  },
  {
   "cell_type": "code",
   "execution_count": 45,
   "metadata": {},
   "outputs": [
    {
     "name": "stdout",
     "output_type": "stream",
     "text": [
      "Write Your ID Altamash@gmail.com\n",
      "write Your Passwordabc123\n",
      "Your Are Welcome\n"
     ]
    }
   ],
   "source": [
    "Uid = input(\"Write Your ID \" )\n",
    "Upass = input(\"write Your Password\")\n",
    "\n",
    "if User_id == Uid and User_pass == Upass :\n",
    "    print(\"Your Are Welcome\")\n",
    "else :\n",
    "    print(\"you are Not Allowed\")\n",
    "\n"
   ]
  },
  {
   "cell_type": "code",
   "execution_count": 78,
   "metadata": {},
   "outputs": [
    {
     "name": "stdout",
     "output_type": "stream",
     "text": [
      "Wnter Your Required Brand polo\n",
      "Wnter Your Required Color white\n",
      "Wnter Your Required size m\n",
      "Wnter Your Required Price 900\n",
      "Your Have Bour Something\n"
     ]
    }
   ],
   "source": [
    "card = None\n",
    "Brand = input(\"Wnter Your Required Brand \").lower()\n",
    "\n",
    "if Brand == \"polo\"  :\n",
    "    Color = input(\"Wnter Your Required Color \").lower()\n",
    "    if Color == \"white\"  :\n",
    "        Size = input(\"Wnter Your Required size \").lower()\n",
    "        if Size == \"m\" :\n",
    "            Price = int(input(\"Wnter Your Required Price \"))\n",
    "            if Price <= 1000 :\n",
    "                card = \"Your Have Bought Something\"\n",
    "            else:\n",
    "                card = 'Not Available'\n",
    "                print(\"Price Not Available\")\n",
    "        else:\n",
    "            card = 'Not Available'\n",
    "            print(\"Size Not Available\")\n",
    "    else:\n",
    "        card = 'Not Available'\n",
    "        print(\"Color Not Available\")\n",
    "else:\n",
    "    card = 'Not Available'\n",
    "    print(\"Brand Not Available\")\n",
    "    \n",
    "\n",
    "print(card)\n",
    "    \n",
    "    "
   ]
  },
  {
   "cell_type": "code",
   "execution_count": 83,
   "metadata": {},
   "outputs": [
    {
     "name": "stdout",
     "output_type": "stream",
     "text": [
      "Write Marks Of Python = 60\n",
      "Write Marks Of Java = 87\n",
      "Write Marks Of C = 67\n",
      "Write Marks Of Go = 98\n",
      "Write Marks Of Js = 67\n",
      "\n",
      "           Result Card\n",
      "==================================\n",
      "\n",
      "       Marks Of Python = 60\n",
      "       Marks Of Java = 87\n",
      "       Marks Of C = 67\n",
      "       Marks Of Go= 98\n",
      "       Marks Of Js = 67\n",
      "       \n",
      "       OBTAIN MARKS = 379\n",
      "       PERCENTAGE = 75.8\n",
      "       GRADE = A\n",
      "       \n",
      "    \n",
      "\n",
      "\n"
     ]
    }
   ],
   "source": [
    "grade = None\n",
    "python = int(input(\"Write Marks Of Python = \"))\n",
    "java = int(input(\"Write Marks Of Java = \"))\n",
    "c = int(input(\"Write Marks Of C = \"))\n",
    "go = int(input(\"Write Marks Of Go = \"))\n",
    "js = int(input(\"Write Marks Of Js = \"))\n",
    "\n",
    "obt = python + java + c + go + js\n",
    "\n",
    "per = obt/500*100\n",
    "\n",
    "if per>=80:\n",
    "    grade = \"A+\"\n",
    "    \n",
    "elif per>=70:\n",
    "    grade = \"A\"\n",
    "    \n",
    "elif per>=60:\n",
    "    grade = \"B\"\n",
    "            \n",
    "elif per>=50:\n",
    "    grade = \"C\"\n",
    "\n",
    "elif per>=40:\n",
    "    grade = \"D\"\n",
    "                    \n",
    "else:\n",
    "    grade = \"Fail\"\n",
    "                        \n",
    "print(f\"\"\"\n",
    "           Result Card\n",
    "==================================\n",
    "\n",
    "       Marks Of Python = {python}\n",
    "       Marks Of Java = {java}\n",
    "       Marks Of C = {c}\n",
    "       Marks Of Go= {go}\n",
    "       Marks Of Js = {js}\n",
    "       \n",
    "       OBTAIN MARKS = {obt}\n",
    "       PERCENTAGE = {per}\n",
    "       GRADE = {grade}\n",
    "       \n",
    "    \n",
    "\n",
    "\"\"\")"
   ]
  },
  {
   "cell_type": "code",
   "execution_count": null,
   "metadata": {},
   "outputs": [],
   "source": [
    "\n"
   ]
  },
  {
   "cell_type": "code",
   "execution_count": null,
   "metadata": {},
   "outputs": [],
   "source": []
  }
 ],
 "metadata": {
  "kernelspec": {
   "display_name": "Python 3 (ipykernel)",
   "language": "python",
   "name": "python3"
  },
  "language_info": {
   "codemirror_mode": {
    "name": "ipython",
    "version": 3
   },
   "file_extension": ".py",
   "mimetype": "text/x-python",
   "name": "python",
   "nbconvert_exporter": "python",
   "pygments_lexer": "ipython3",
   "version": "3.9.12"
  }
 },
 "nbformat": 4,
 "nbformat_minor": 2
}
