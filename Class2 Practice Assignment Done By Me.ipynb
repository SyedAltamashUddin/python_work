{
 "cells": [
  {
   "cell_type": "markdown",
   "id": "f6519aad",
   "metadata": {},
   "source": [
    "# User input"
   ]
  },
  {
   "cell_type": "raw",
   "id": "948191fe",
   "metadata": {},
   "source": [
    "1. Take a sentence input from user using input function. Count occurence of a particular character/word in the sentence and print the message that the character appear this many times in the sentence.\n",
    "Like if user inputs> \"My name is Sana. I am an undergraduate student. I am learning Artificial Intellegence in PIAIC\"\n",
    "Your output should be:\n",
    "    I appears 5 times in your sentence\n",
    "Hint: nahi batounga use string methods.\n",
    "Note: Sana is a boy. His full name is SanaUllah😄"
   ]
  },
  {
   "cell_type": "code",
   "execution_count": 27,
   "id": "8afdad30",
   "metadata": {},
   "outputs": [
    {
     "name": "stdout",
     "output_type": "stream",
     "text": [
      "Write Any Sentense = My Name Is Altamash , ANd I Am A Student of PIAIC\n",
      "You Have Write Capital A 5 Times \n"
     ]
    }
   ],
   "source": [
    "user_input = input(\"Write Any Sentense = \")\n",
    "user_count = user_input.count(\"A\")\n",
    "print(\"You Have Write Capital A \"+ str(user_count) +\" Times \" )"
   ]
  },
  {
   "cell_type": "raw",
   "id": "bf6c3672",
   "metadata": {},
   "source": [
    "2. Take a number input from user and print the square of that number. \n",
    "\n",
    "if a user inputs 10 Your output should be like:\n",
    "    The square of 10 is 100\n",
    "if a user inputs 5 Your output should be like:\n",
    "    The square of 5 is 25\n",
    "if a user inputs 2 Your output should be like:\n",
    "    The square of 2 is 4\n"
   ]
  },
  {
   "cell_type": "code",
   "execution_count": 21,
   "id": "7167ea10",
   "metadata": {},
   "outputs": [
    {
     "name": "stdout",
     "output_type": "stream",
     "text": [
      "Write Any Number = 15\n",
      "The Square Of 15 is 225\n"
     ]
    }
   ],
   "source": [
    "user_input = int(input(\"Write Any Number = \"))\n",
    "square = user_input * user_input\n",
    "print(\"The Square Of \"+ str(user_input)+\" is \"+ str(square) )"
   ]
  },
  {
   "cell_type": "raw",
   "id": "0da0f529",
   "metadata": {},
   "source": [
    "3. Take two inputs from user using two input functions add these two numbers and print the result.\n",
    "For example if a user inputs 10 in first input, 20 in second input then your output mustbe like:\n",
    "    The sum of 10 and 20 is 30\n",
    "    \n",
    "For example if a user inputs 12 in first input, 30 in second input then your output mustbe like:\n",
    "    The sum of 12 and 30 is 42\n",
    "\n",
    "For example if a user inputs 100 in first input, 200 in second input then your out put mustbe like:\n",
    "    The sum of 100 and 200 is 300"
   ]
  },
  {
   "cell_type": "code",
   "execution_count": 23,
   "id": "805fe5c1",
   "metadata": {},
   "outputs": [
    {
     "name": "stdout",
     "output_type": "stream",
     "text": [
      "Write First Number = 10\n",
      "Write Second Number = 20\n",
      "The Sum Of 10 And 20 is 30\n"
     ]
    }
   ],
   "source": [
    "user_input_1 = int(input(\"Write First Number = \"))\n",
    "user_input_2 = int(input(\"Write Second Number = \"))\n",
    "Sum = user_input_1 + user_input_2\n",
    "print(\"The Sum Of \"+ str(user_input_1)+\" And \"+ str(user_input_2)+\" is \"+ str(Sum) )"
   ]
  },
  {
   "cell_type": "raw",
   "id": "f957eb50",
   "metadata": {},
   "source": [
    "4. Format a string to display a card like string:\n",
    "    \n",
    "            Presidential Initiative for AI & Computing\n",
    "                          ID CARD\n",
    "            Student Name   : Asad Ali\n",
    "            Father Name    : Amjad Ali\n",
    "            Date of Birth  : 01-01-2000\n",
    "            Course Enrolled: Artificial Intelligence\n",
    "            Batch          : 2022\n",
    "            Day            : Saturday \n",
    "            Centre         : Sir Syed University of Engg and Technology\n",
    "                \n",
    "Note: all the field values must be taken as user inputs and stored in variable"
   ]
  },
  {
   "cell_type": "code",
   "execution_count": 26,
   "id": "0f2d4d2d",
   "metadata": {},
   "outputs": [
    {
     "name": "stdout",
     "output_type": "stream",
     "text": [
      "Write Student Name = Altamash\n",
      "Write Father Name = Naseer\n",
      "Write Date Of Birth = 22.02.2002\n",
      "Write Cource Name = AIC\n",
      "Write Batch Name = 2022\n",
      "Write What Date Is Today = Tuesday\n",
      "Write Which Center Are You On = Sir Syed University\n",
      "\n",
      "            Presidential Initiative for AI & Computing\n",
      "                          ID CARD\n",
      "            Student Name   : Altamash\n",
      "            Father Name    : Naseer\n",
      "            Date of Birth  : 22.02.2002\n",
      "            Course Enrolled: AIC\n",
      "            Batch          : 2022\n",
      "            Day            : Tuesday \n",
      "            Centre         : Sir Syed University\n",
      "\n"
     ]
    }
   ],
   "source": [
    "Student_Name = input(\"Write Student Name = \")\n",
    "Father_Name = input(\"Write Father Name = \")\n",
    "Date_of_Birth = input(\"Write Date Of Birth = \")\n",
    "Course_Enrolled = input(\"Write Cource Name = \")\n",
    "Batch = input(\"Write Batch Name = \")\n",
    "Day = input(\"Write What Date Is Today = \")\n",
    "Centre = input(\"Write Which Center Are You On = \")\n",
    "print(f\"\"\"\n",
    "            Presidential Initiative for AI & Computing\n",
    "                          ID CARD\n",
    "            Student Name   : {Student_Name}\n",
    "            Father Name    : {Father_Name}\n",
    "            Date of Birth  : {Date_of_Birth}\n",
    "            Course Enrolled: {Course_Enrolled}\n",
    "            Batch          : {Batch}\n",
    "            Day            : {Day} \n",
    "            Centre         : {Centre}\n",
    "\"\"\")"
   ]
  },
  {
   "cell_type": "code",
   "execution_count": null,
   "id": "c9145811",
   "metadata": {},
   "outputs": [],
   "source": []
  }
 ],
 "metadata": {
  "kernelspec": {
   "display_name": "Python 3 (ipykernel)",
   "language": "python",
   "name": "python3"
  },
  "language_info": {
   "codemirror_mode": {
    "name": "ipython",
    "version": 3
   },
   "file_extension": ".py",
   "mimetype": "text/x-python",
   "name": "python",
   "nbconvert_exporter": "python",
   "pygments_lexer": "ipython3",
   "version": "3.9.12"
  }
 },
 "nbformat": 4,
 "nbformat_minor": 5
}
