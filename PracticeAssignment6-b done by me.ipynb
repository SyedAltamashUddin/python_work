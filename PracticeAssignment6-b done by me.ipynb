{
 "cells": [
  {
   "cell_type": "markdown",
   "id": "ac6f64a4",
   "metadata": {},
   "source": [
    "##### Task1: Mean \n",
    "Breifly decribe the term <b>Mean</b> (<i>dont write formula that sum of all numbers divide by total numbers) </i>\n",
    "Try to present some statistical view of mean(Average).\n",
    "You need to find the mean Average of the array(list). Not built-in function is allowed to use. \n",
    "\n",
    "Example : if user supplies a list [2,3,4,5,5,4,6,7,8,9]\n",
    "\n",
    "The output should be:\n",
    "\n",
    "The mean of the array [2,3,4,5,5,4,6,7,8,9] is 5.3"
   ]
  },
  {
   "cell_type": "code",
   "execution_count": 5,
   "id": "93002a67",
   "metadata": {},
   "outputs": [
    {
     "name": "stdout",
     "output_type": "stream",
     "text": [
      "The mean of the array [2,3,4,5,5,4,6,7,8,9] is 5.3\n"
     ]
    }
   ],
   "source": [
    "#Your Code goes here\n",
    "sums = 0\n",
    "i=0\n",
    "lists = [2,3,4,5,5,4,6,7,8,9]\n",
    "for no in lists:\n",
    "    sums = sums + no\n",
    "    i=i+1\n",
    "\n",
    "mean = sums/i\n",
    "print(f\"The mean of the array [2,3,4,5,5,4,6,7,8,9] is {mean}\")"
   ]
  },
  {
   "cell_type": "markdown",
   "id": "52bedbb9",
   "metadata": {},
   "source": [
    "#### Task2: Median\n",
    "    \n",
    "Breifly decribe the term <b>Median</b> (<i>dont write mathematical formula</i>)\n",
    "\n",
    "You need to find the Median of the array(list). Not built-in function is allowed to use.\n",
    "\n",
    "Example : if user supplies a list [2,3,4,5,5,4,6,7,8,9]\n",
    "\n",
    "The output should be:\n",
    "\n",
    "The median of the array [2,3,4,5,5,4,6,7,8,9] is 5.\n",
    "    "
   ]
  },
  {
   "cell_type": "code",
   "execution_count": 66,
   "id": "0f10f151",
   "metadata": {},
   "outputs": [
    {
     "name": "stdout",
     "output_type": "stream",
     "text": [
      "[2, 3, 4, 4, 5, 5, 6, 7, 8, 9]\n"
     ]
    },
    {
     "data": {
      "text/plain": [
       "5"
      ]
     },
     "execution_count": 66,
     "metadata": {},
     "output_type": "execute_result"
    }
   ],
   "source": [
    "#Your code goes here \n",
    "lists = [2,3,4,5,5,4,6,7,8,9]\n",
    "n = len(lists)\n",
    "\n",
    "# for lists in order\n",
    "for x in range(len(lists)):\n",
    "    for y in range(x + 1 , len(lists)):\n",
    "        if lists[x] > lists[y]:\n",
    "            lists[x] , lists[y] = lists[y] , lists[x]\n",
    "            \n",
    "print(lists)\n",
    "\n",
    "if n % 2 == 0:\n",
    "    median1 = lists[n // 2]\n",
    "    median2 = lists[n // 2 - 1]\n",
    "    median = (median1+median2)//2\n",
    "    \n",
    "else:\n",
    "     median = lists[n/2]\n",
    "    \n",
    "median"
   ]
  },
  {
   "cell_type": "markdown",
   "id": "41484d7c",
   "metadata": {},
   "source": [
    "#### Task3: Mode \n",
    "Breifly decribe the term <b>Mode</b> (<i>dont write mathematical formula</i>)\n",
    "\n",
    "You need to find the Mode of the array(list). Not built-in function is allowed to use.\n",
    "\n",
    "Example : if user supplies a list [2,3,4,5,3,4,6,7,3,9]\n",
    "\n",
    "The output should be:\n",
    "\n",
    "The median of the array [2,3,4,5,3,4,6,7,8,3] is 3."
   ]
  },
  {
   "cell_type": "code",
   "execution_count": 95,
   "id": "e34c18f9",
   "metadata": {},
   "outputs": [
    {
     "name": "stdout",
     "output_type": "stream",
     "text": [
      "[2, 3, 3, 3, 4, 4, 5, 5, 6, 7, 9]\n",
      "The Mod of the array [2,3,4,5,3,4,6,7,8,3] is [3]\n"
     ]
    }
   ],
   "source": [
    "# Your code goes here \n",
    "\n",
    "lists = [2,3,4,5,3,4,6,7,3,9,5]\n",
    "lists_up = []\n",
    "mod = []\n",
    "\n",
    "for x in range(len(lists)):\n",
    "    for y in range(x + 1 , len(lists)):\n",
    "        if lists[x] > lists[y]:\n",
    "            lists[x] , lists[y] = lists[y] , lists[x]\n",
    "            \n",
    "print(lists)\n",
    "\n",
    "# for lists in order\n",
    "for x in range(len(lists)):\n",
    "    for y in range(x + 1 , len(lists)):\n",
    "           if lists[x] == lists[y]:\n",
    "                lists_up.append(lists[x])\n",
    "                break\n",
    "                \n",
    "# for lists in order\n",
    "for x in range(len(lists_up)):\n",
    "    for y in range(x + 1 , len(lists_up)):\n",
    "           if lists_up[x] == lists_up[y]:\n",
    "                mod.append(lists_up[x])\n",
    "                break\n",
    "            \n",
    "print(f\"The Mod of the array [2,3,4,5,3,4,6,7,8,3] is {mod}\")"
   ]
  },
  {
   "cell_type": "markdown",
   "id": "ad6fee2a",
   "metadata": {},
   "source": [
    "#### Task4: Sorting an array in ascending order\n",
    "If user supplies an array(list) like arr = [5, 2, 8, 7, 1]. \n",
    "\n",
    "\n",
    "The output should be like:\n",
    "\n",
    "Elements of original array: \n",
    "5 2 8 7 1 \n",
    "\n",
    "Elements of array sorted in ascending order: \n",
    "1 2 5 7 8 \n",
    "\n",
    "Note: We need to write our own sorting algorithm using sort function of list is not acceptable."
   ]
  },
  {
   "cell_type": "code",
   "execution_count": 50,
   "id": "c857c8ba",
   "metadata": {},
   "outputs": [
    {
     "name": "stdout",
     "output_type": "stream",
     "text": [
      "[1, 2, 5, 7, 8]\n"
     ]
    }
   ],
   "source": [
    "#Your code goes here \n",
    "I =  [5, 2, 8, 7, 1]\n",
    "\n",
    "for x in range(len(I)):\n",
    "    for y in range(x + 1 , len(I)):\n",
    "        \n",
    "        if I[x] > I[y]:\n",
    "            I[x] , I[y] = I[y] , I[x]\n",
    "            \n",
    "print(I)\n",
    "\n",
    "\n",
    "# l = [64, 25, 12, 22, 11, 1,2,44,3,122, 23, 34]\n",
    "\n",
    "# for i in range(len(l)):\n",
    "#     for j in range(i + 1, len(l)):\n",
    "\n",
    "#         if l[i] > l[j]:\n",
    "#             l[i], l[j] = l[j], l[i]\n",
    "\n",
    "# print(l)"
   ]
  },
  {
   "cell_type": "markdown",
   "id": "b3134432",
   "metadata": {},
   "source": [
    "#### Task5: Sorting an array in descending order\n",
    "\n",
    "If user supplies an array(list) like arr = [5, 2, 8, 7, 1]. \n",
    "\n",
    "\n",
    "The output should be like:\n",
    "\n",
    "Elements of original array: \n",
    "5 2 8 7 1 \n",
    "\n",
    "Elements of array sorted in ascending order: \n",
    "8 7 5 2 1 \n",
    "\n",
    "Note: We need to write our own sorting algorithm. Using sort function of list is not acceptable.\n"
   ]
  },
  {
   "cell_type": "code",
   "execution_count": 53,
   "id": "70452f62",
   "metadata": {},
   "outputs": [
    {
     "name": "stdout",
     "output_type": "stream",
     "text": [
      "[8, 7, 5, 2, 1]\n"
     ]
    }
   ],
   "source": [
    "#Your code goes here \n",
    "I =  [5, 2, 8, 7, 1]\n",
    "\n",
    "for x in range(len(I)):\n",
    "    for y in range(x + 1 , len(I)):\n",
    "        \n",
    "        if I[x] < I[y]:\n",
    "            I[y] , I[x] = I[x] , I[y]\n",
    "            \n",
    "print(I)"
   ]
  },
  {
   "cell_type": "markdown",
   "id": "fe5691a5",
   "metadata": {},
   "source": [
    "#### Task6: Finding the max of the inputted array \n",
    "\n",
    "If user supplies an array(list) like arr = [5, 2, 8, 7, 1]. \n",
    "\n",
    "\n",
    "The output should be like:\n",
    "\n",
    "Max value in the array is 8\n",
    "\n",
    "Note: We need to write our own max algorithm. use of python max function is not acceptable. "
   ]
  },
  {
   "cell_type": "code",
   "execution_count": 54,
   "id": "89ab79e3",
   "metadata": {},
   "outputs": [
    {
     "name": "stdout",
     "output_type": "stream",
     "text": [
      "8\n"
     ]
    }
   ],
   "source": [
    "# Your code goes here\n",
    "I =  [5, 2, 8, 7, 1]\n",
    "\n",
    "for x in range(len(I)):\n",
    "    for y in range(x + 1 , len(I)):\n",
    "        \n",
    "        if I[x] > I[y]:\n",
    "            I[x] , I[y] = I[y] , I[x]\n",
    "            \n",
    "print(I[-1])\n"
   ]
  },
  {
   "cell_type": "markdown",
   "id": "04c3bb05",
   "metadata": {},
   "source": [
    "#### Task7: Finding the min of the inputted array\n",
    "If user supplies an array(list) like arr = [5, 2, 8, 7, 1].\n",
    "\n",
    "The output should be like:\n",
    "\n",
    "Min value in the array is 1\n",
    "\n",
    "Note: We need to write our own min algorithm. use of python min function is not acceptable."
   ]
  },
  {
   "cell_type": "code",
   "execution_count": 56,
   "id": "36abc9e4",
   "metadata": {},
   "outputs": [
    {
     "name": "stdout",
     "output_type": "stream",
     "text": [
      "1\n"
     ]
    }
   ],
   "source": [
    "#Your code goes here \n",
    "I =  [5, 2, 8, 7, 1]\n",
    "\n",
    "for x in range(len(I)):\n",
    "    for y in range(x + 1 , len(I)):\n",
    "        \n",
    "        if I[x] > I[y]:\n",
    "            I[x] , I[y] = I[y] , I[x]\n",
    "            \n",
    "print(I[0])\n"
   ]
  },
  {
   "cell_type": "code",
   "execution_count": 1,
   "id": "7c856b2b",
   "metadata": {},
   "outputs": [
    {
     "ename": "NameError",
     "evalue": "name 'table' is not defined",
     "output_type": "error",
     "traceback": [
      "\u001b[1;31m---------------------------------------------------------------------------\u001b[0m",
      "\u001b[1;31mNameError\u001b[0m                                 Traceback (most recent call last)",
      "Input \u001b[1;32mIn [1]\u001b[0m, in \u001b[0;36m<cell line: 1>\u001b[1;34m()\u001b[0m\n\u001b[1;32m----> 1\u001b[0m \u001b[43mtable\u001b[49m(\u001b[38;5;241m5\u001b[39m)\n",
      "\u001b[1;31mNameError\u001b[0m: name 'table' is not defined"
     ]
    }
   ],
   "source": [
    "table(5)"
   ]
  },
  {
   "cell_type": "code",
   "execution_count": null,
   "id": "c88334d9",
   "metadata": {},
   "outputs": [],
   "source": []
  }
 ],
 "metadata": {
  "kernelspec": {
   "display_name": "Python 3 (ipykernel)",
   "language": "python",
   "name": "python3"
  },
  "language_info": {
   "codemirror_mode": {
    "name": "ipython",
    "version": 3
   },
   "file_extension": ".py",
   "mimetype": "text/x-python",
   "name": "python",
   "nbconvert_exporter": "python",
   "pygments_lexer": "ipython3",
   "version": "3.9.12"
  }
 },
 "nbformat": 4,
 "nbformat_minor": 5
}
