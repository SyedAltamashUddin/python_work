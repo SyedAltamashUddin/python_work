{
 "cells": [
  {
   "cell_type": "markdown",
   "id": "b5ec9d3e",
   "metadata": {},
   "source": [
    "### Task1:\n",
    "You need to code a program that prints numbers from 1 to 20 except multiple of 2 & 3.\n",
    "\n",
    "Hint: use \"modulo\" operator and \"and/or\" operators"
   ]
  },
  {
   "cell_type": "code",
   "execution_count": 7,
   "id": "a94f69b5",
   "metadata": {},
   "outputs": [
    {
     "name": "stdout",
     "output_type": "stream",
     "text": [
      "[1, 5, 7, 11, 13, 17, 19]\n"
     ]
    }
   ],
   "source": [
    "# Your code goes here\n",
    "numbers = []\n",
    "for num in range(1,20):\n",
    "    if (num % 2 == 0) or (num % 3 == 0):\n",
    "        continue\n",
    "    else:\n",
    "        numbers.append(num)\n",
    "        \n",
    "print(numbers)"
   ]
  },
  {
   "cell_type": "markdown",
   "id": "b123a205",
   "metadata": {},
   "source": [
    "### Task2:\n",
    "Write a program that keep on accepting number from the user until user enters Zero. Display the sum and average of all the numbers.\n",
    "\n",
    "Hint: Use while loop with flag. "
   ]
  },
  {
   "cell_type": "code",
   "execution_count": 22,
   "id": "29296c1c",
   "metadata": {},
   "outputs": [
    {
     "name": "stdout",
     "output_type": "stream",
     "text": [
      "Write No for sum and average if you enter zero it stops = 2\n",
      "Write No for sum and average if you enter zero it stops = 2\n",
      "Write No for sum and average if you enter zero it stops = 2\n",
      "Write No for sum and average if you enter zero it stops = 2\n",
      "Write No for sum and average if you enter zero it stops = 0\n",
      "Sum Of All No =  8\n",
      "Average Of All No =  2\n"
     ]
    }
   ],
   "source": [
    "# Your code goes here\n",
    "\n",
    "\n",
    "numbers = []\n",
    "flag = True\n",
    "i=0\n",
    "while(flag):\n",
    "    user_input = int(input(\"Write No for sum and average if you enter zero it stops = \"))\n",
    "    \n",
    "    if user_input == 0:\n",
    "        flag = False\n",
    "    else:\n",
    "        numbers.append(user_input)\n",
    "        sums = sum(numbers)\n",
    "        i=i+1\n",
    "        Average = sums//i\n",
    "        \n",
    "print(\"Sum Of All No = \",sums)\n",
    "print(\"Average Of All No = \",Average)"
   ]
  },
  {
   "cell_type": "markdown",
   "id": "9ea5024e",
   "metadata": {},
   "source": [
    "#### Task3:\n",
    "Accept 10 numbers from the user and display their average.\n",
    "\n",
    "Hint: Use loop for accepting numbers or use split to take input in one go"
   ]
  },
  {
   "cell_type": "code",
   "execution_count": 41,
   "id": "42fac85e",
   "metadata": {},
   "outputs": [
    {
     "name": "stdout",
     "output_type": "stream",
     "text": [
      "write No To Get Average = 1,2,3,4,5,6,7,8,9,10\n",
      "Average Of All No Are =  5\n"
     ]
    }
   ],
   "source": [
    "# Your code goes here\n",
    "\n",
    "## using loop for accepting No\n",
    "\n",
    "# nums = []\n",
    "# sums=0\n",
    "# for num in range(0,10):\n",
    "#     nums.append(int(input(\"write No To Get Average = \")))\n",
    "#     sums=sum(nums)\n",
    "#     num=num+1\n",
    "#     average = sums//num\n",
    "# print(\"Average of All No Are = \",average)\n",
    "# print(\"Sum Of All No = \".sums)\n",
    "\n",
    "## using split funtion to take input \n",
    "\n",
    "Numbers = input(\"write No To Get Average = \").split(\",\")\n",
    "nums_in_int = []\n",
    "sums=0\n",
    "i=0\n",
    "for num in Numbers:\n",
    "    num = int(num)\n",
    "    nums_in_int.append(num)\n",
    "    sums = sum(nums_in_int)\n",
    "    i=i+1\n",
    "    average = sums//i\n",
    "           \n",
    "print(\"Average Of All No Are = \",average)\n",
    "\n",
    " "
   ]
  },
  {
   "cell_type": "markdown",
   "id": "e17466dd",
   "metadata": {},
   "source": [
    "#### Task4:\n",
    "Write a program to display sum of odd numbers and even numbers that fall between 12 and 37(including both numbers)\n"
   ]
  },
  {
   "cell_type": "code",
   "execution_count": 45,
   "id": "d5715b5c",
   "metadata": {},
   "outputs": [
    {
     "name": "stdout",
     "output_type": "stream",
     "text": [
      "Evens Are In 12 To 37 =  [12, 14, 16, 18, 20, 22, 24, 26, 28, 30, 32, 34, 36]\n",
      "Odds Are In 12 To 37 =  [13, 15, 17, 19, 21, 23, 25, 27, 29, 31, 33, 35, 37]\n"
     ]
    }
   ],
   "source": [
    "# Your code goes here\n",
    "evens = []\n",
    "odds = []\n",
    "for Num in range(12,38):\n",
    "    if Num % 2 == 0:\n",
    "        evens.append(Num)\n",
    "    else:\n",
    "        odds.append(Num)\n",
    "    \n",
    "print(\"Evens Are In 12 To 37 = \",evens)\n",
    "print(\"Odds Are In 12 To 37 = \",odds)"
   ]
  },
  {
   "cell_type": "markdown",
   "id": "4c64217d",
   "metadata": {},
   "source": [
    "### Task5:\n",
    "Write a program to print table of a number accepted from user.\n"
   ]
  },
  {
   "cell_type": "raw",
   "id": "0bf864bf",
   "metadata": {},
   "source": [
    "\n",
    "Output: \n",
    "7 * 1 = 7\n",
    "7 * 2 = 14\n",
    "7 * 3 = 21\n",
    "7 * 4 = 28\n",
    "7 * 5 = 35\n",
    "7 * 6 = 42\n",
    "7 * 7 = 49\n",
    "7 * 8 = 56\n",
    "7 * 9 = 63\n",
    "7 * 10 = 70\n",
    "           "
   ]
  },
  {
   "cell_type": "code",
   "execution_count": 55,
   "id": "3305bb3d",
   "metadata": {},
   "outputs": [
    {
     "name": "stdout",
     "output_type": "stream",
     "text": [
      "Write A No To Print Table = 7\n",
      "7  *  1  =  7\n",
      "7  *  2  =  14\n",
      "7  *  3  =  21\n",
      "7  *  4  =  28\n",
      "7  *  5  =  35\n",
      "7  *  6  =  42\n",
      "7  *  7  =  49\n",
      "7  *  8  =  56\n",
      "7  *  9  =  63\n",
      "7  *  10  =  70\n"
     ]
    }
   ],
   "source": [
    "# Your code goes here\n",
    "i=0\n",
    "NO = int(input(\"Write A No To Print Table = \"))\n",
    "for Num in range(1,11):\n",
    "    i=i+1\n",
    "    Table = NO*i\n",
    "    print(NO,\" * \",i,\" = \",Table)\n",
    "    "
   ]
  },
  {
   "cell_type": "markdown",
   "id": "fc08df86",
   "metadata": {},
   "source": [
    "### Task6:\n",
    "Write a program to display product of the digits of a number accepted from the user.\n",
    "\n",
    "If user inputs:123 Outputs 6\n",
    "\n",
    "If user inputs: 567 Outputs 210"
   ]
  },
  {
   "cell_type": "code",
   "execution_count": 75,
   "id": "e793d4c9",
   "metadata": {},
   "outputs": [
    {
     "name": "stdout",
     "output_type": "stream",
     "text": [
      "Write Numbers To Get A Product Of Digit = 567\n",
      "210\n"
     ]
    }
   ],
   "source": [
    "# Your code goes here\n",
    "Prod = 1\n",
    "User_input = input(\"Write Numbers To Get A Product Of Digit = \")\n",
    "for Num in User_input:\n",
    "    Num = int(Num)\n",
    "    Prod = Prod * Num\n",
    "\n",
    "print(Prod)"
   ]
  },
  {
   "cell_type": "markdown",
   "id": "f041397e",
   "metadata": {},
   "source": [
    "### Task7: \n",
    "Write a program to print first 10 even numbers in reverse order."
   ]
  },
  {
   "cell_type": "code",
   "execution_count": 78,
   "id": "b639f15e",
   "metadata": {},
   "outputs": [
    {
     "name": "stdout",
     "output_type": "stream",
     "text": [
      "[20, 18, 16, 14, 12, 10, 8, 6, 4, 2]\n"
     ]
    }
   ],
   "source": [
    "# Your code goes here\n",
    "evens = []\n",
    "for num in range(20,0,-1):\n",
    "    if num % 2 == 0:\n",
    "        evens.append(num)\n",
    "        \n",
    "print(evens)"
   ]
  },
  {
   "cell_type": "markdown",
   "id": "37b679bb",
   "metadata": {},
   "source": [
    "### Task8:\n",
    "Write a program to find the sum of the digits of a number accepted from user\n",
    "\n",
    "If user inputs:123 Outputs 6\n",
    "\n",
    "If user inputs: 567 Outputs 18"
   ]
  },
  {
   "cell_type": "code",
   "execution_count": 80,
   "id": "adef66ce",
   "metadata": {},
   "outputs": [
    {
     "name": "stdout",
     "output_type": "stream",
     "text": [
      "write a no to find the sum of the digits of a number = 567\n",
      "18\n"
     ]
    }
   ],
   "source": [
    "# Your code goes here\n",
    "sums = 0\n",
    "User_input = input(\"write a no to find the sum of the digits of a number = \")\n",
    "for num in User_input:\n",
    "    num=int(num)\n",
    "    sums = sums + num\n",
    "\n",
    "print(sums)"
   ]
  },
  {
   "cell_type": "markdown",
   "id": "8b87f377",
   "metadata": {},
   "source": [
    "### Task9:\n",
    "Write a program that accepts a sentence and calculate the number of letters and digits.\n",
    "\n",
    "Suppose the following input is supplied to the program:\n",
    "\n",
    "hello world! 123\n",
    "\n",
    "Then, the output should be:\n",
    "\n",
    "LETTERS 10\n",
    "\n",
    "DIGITS 3\n"
   ]
  },
  {
   "cell_type": "code",
   "execution_count": 98,
   "id": "73835ab3",
   "metadata": {},
   "outputs": [
    {
     "name": "stdout",
     "output_type": "stream",
     "text": [
      "Input a string = abc12345\n",
      "Letters 3\n",
      "Digits 5\n"
     ]
    }
   ],
   "source": [
    "# Your code goes here\n",
    "# letter = 0\n",
    "# digit = 0\n",
    "# User_input = input(\"Write A Sentece To Calculate Number And Digit = \")\n",
    "# for No in User_input:\n",
    "#     if No == str(word):\n",
    "#         continue\n",
    "\n",
    "\n",
    "# letter = (len(User_input) - int(No))\n",
    "# print(\"No are = \",No)\n",
    "# print(\"letters are = \",letter)\n",
    "\n",
    "s = input(\"Input a string = \")\n",
    "d=l=0\n",
    "for c in s:\n",
    "    if c.isdigit():\n",
    "        d=d+1\n",
    "    elif c.isalpha():\n",
    "        l=l+1\n",
    "    else:\n",
    "        pass\n",
    "print(\"Letters\", l)\n",
    "print(\"Digits\", d)"
   ]
  },
  {
   "cell_type": "markdown",
   "id": "a25b412b",
   "metadata": {},
   "source": [
    "### Task10: \n",
    "You need to trace and make a list of all such numbers from1000 to 3000 in which all the digits are even numbers."
   ]
  },
  {
   "cell_type": "code",
   "execution_count": 131,
   "id": "a3c27a5e",
   "metadata": {},
   "outputs": [
    {
     "name": "stdout",
     "output_type": "stream",
     "text": [
      "['2000', '2002', '2004', '2006', '2008', '2010', '2012', '2014', '2016', '2018', '2020', '2022', '2024', '2026', '2028', '2030', '2032', '2034', '2036', '2038', '2040', '2042', '2044', '2046', '2048', '2050', '2052', '2054', '2056', '2058', '2060', '2062', '2064', '2066', '2068', '2070', '2072', '2074', '2076', '2078', '2080', '2082', '2084', '2086', '2088', '2090', '2092', '2094', '2096', '2098', '2100', '2102', '2104', '2106', '2108', '2110', '2112', '2114', '2116', '2118', '2120', '2122', '2124', '2126', '2128', '2130', '2132', '2134', '2136', '2138', '2140', '2142', '2144', '2146', '2148', '2150', '2152', '2154', '2156', '2158', '2160', '2162', '2164', '2166', '2168', '2170', '2172', '2174', '2176', '2178', '2180', '2182', '2184', '2186', '2188', '2190', '2192', '2194', '2196', '2198', '2200', '2202', '2204', '2206', '2208', '2210', '2212', '2214', '2216', '2218', '2220', '2222', '2224', '2226', '2228', '2230', '2232', '2234', '2236', '2238', '2240', '2242', '2244', '2246', '2248', '2250', '2252', '2254', '2256', '2258', '2260', '2262', '2264', '2266', '2268', '2270', '2272', '2274', '2276', '2278', '2280', '2282', '2284', '2286', '2288', '2290', '2292', '2294', '2296', '2298', '2300', '2302', '2304', '2306', '2308', '2310', '2312', '2314', '2316', '2318', '2320', '2322', '2324', '2326', '2328', '2330', '2332', '2334', '2336', '2338', '2340', '2342', '2344', '2346', '2348', '2350', '2352', '2354', '2356', '2358', '2360', '2362', '2364', '2366', '2368', '2370', '2372', '2374', '2376', '2378', '2380', '2382', '2384', '2386', '2388', '2390', '2392', '2394', '2396', '2398', '2400', '2402', '2404', '2406', '2408', '2410', '2412', '2414', '2416', '2418', '2420', '2422', '2424', '2426', '2428', '2430', '2432', '2434', '2436', '2438', '2440', '2442', '2444', '2446', '2448', '2450', '2452', '2454', '2456', '2458', '2460', '2462', '2464', '2466', '2468', '2470', '2472', '2474', '2476', '2478', '2480', '2482', '2484', '2486', '2488', '2490', '2492', '2494', '2496', '2498', '2500', '2502', '2504', '2506', '2508', '2510', '2512', '2514', '2516', '2518', '2520', '2522', '2524', '2526', '2528', '2530', '2532', '2534', '2536', '2538', '2540', '2542', '2544', '2546', '2548', '2550', '2552', '2554', '2556', '2558', '2560', '2562', '2564', '2566', '2568', '2570', '2572', '2574', '2576', '2578', '2580', '2582', '2584', '2586', '2588', '2590', '2592', '2594', '2596', '2598', '2600', '2602', '2604', '2606', '2608', '2610', '2612', '2614', '2616', '2618', '2620', '2622', '2624', '2626', '2628', '2630', '2632', '2634', '2636', '2638', '2640', '2642', '2644', '2646', '2648', '2650', '2652', '2654', '2656', '2658', '2660', '2662', '2664', '2666', '2668', '2670', '2672', '2674', '2676', '2678', '2680', '2682', '2684', '2686', '2688', '2690', '2692', '2694', '2696', '2698', '2700', '2702', '2704', '2706', '2708', '2710', '2712', '2714', '2716', '2718', '2720', '2722', '2724', '2726', '2728', '2730', '2732', '2734', '2736', '2738', '2740', '2742', '2744', '2746', '2748', '2750', '2752', '2754', '2756', '2758', '2760', '2762', '2764', '2766', '2768', '2770', '2772', '2774', '2776', '2778', '2780', '2782', '2784', '2786', '2788', '2790', '2792', '2794', '2796', '2798', '2800', '2802', '2804', '2806', '2808', '2810', '2812', '2814', '2816', '2818', '2820', '2822', '2824', '2826', '2828', '2830', '2832', '2834', '2836', '2838', '2840', '2842', '2844', '2846', '2848', '2850', '2852', '2854', '2856', '2858', '2860', '2862', '2864', '2866', '2868', '2870', '2872', '2874', '2876', '2878', '2880', '2882', '2884', '2886', '2888', '2890', '2892', '2894', '2896', '2898', '2900', '2902', '2904', '2906', '2908', '2910', '2912', '2914', '2916', '2918', '2920', '2922', '2924', '2926', '2928', '2930', '2932', '2934', '2936', '2938', '2940', '2942', '2944', '2946', '2948', '2950', '2952', '2954', '2956', '2958', '2960', '2962', '2964', '2966', '2968', '2970', '2972', '2974', '2976', '2978', '2980', '2982', '2984', '2986', '2988', '2990', '2992', '2994', '2996', '2998']\n"
     ]
    }
   ],
   "source": [
    "# Your code goes here\n",
    "# Evens = []\n",
    "# for No in range(1000,3000):\n",
    "#     if No % 2 == 0 :\n",
    "#         No = str(No)\n",
    "#         for digit in No:\n",
    "#             digit = int(digit)\n",
    "#             if digit % 2 != 0 :\n",
    "#                 Evens.append(No)\n",
    "                \n",
    "                \n",
    "# print(Evens)\n",
    "\n",
    "Evens = []\n",
    "for No in range(1000,3000,2):\n",
    "    No = str(No)\n",
    "    if No.startswith(\"1\"):\n",
    "        continue\n",
    "    else:\n",
    "        Evens.append(No)\n",
    "        \n",
    "             \n",
    "                \n",
    "                \n",
    "print(Evens)"
   ]
  },
  {
   "cell_type": "markdown",
   "id": "ddc08744",
   "metadata": {},
   "source": [
    "### Task11: \n",
    "You need to write a program that counts the number of vowels in a given sentence as input from console. \n",
    "\n",
    "Suppose the following input is supplied to the program:\n",
    "\n",
    "Hello world! Practice makes perfect\n",
    "\n",
    "Then, the output should be:\n",
    "\n",
    "a appeared 2 times\n",
    "\n",
    "e appeared 5 times\n",
    "\n",
    "i appeared  1 time\n",
    "\n",
    "o appeared 2 times\n",
    "\n",
    "u appeared 0 time\n"
   ]
  },
  {
   "cell_type": "code",
   "execution_count": 133,
   "id": "0ed960fd",
   "metadata": {},
   "outputs": [
    {
     "name": "stdout",
     "output_type": "stream",
     "text": [
      "Write A Sentecnce = Hello world! Practice makes perfect\n",
      "A appeared 2 times\n",
      "E appeared 5 times\n",
      "I appeared 1 times\n",
      "O appeared 2 times\n",
      "U appeared 0 times\n"
     ]
    }
   ],
   "source": [
    "# Your code goes here\n",
    "count_a = 0\n",
    "count_e = 0\n",
    "count_i = 0\n",
    "count_o = 0\n",
    "count_u = 0\n",
    "User_input = input(\"Write A Sentecnce = \").lower()\n",
    "for char in User_input:\n",
    "    if char == \"a\":\n",
    "        count_a = count_a + 1\n",
    "    elif char == \"e\":\n",
    "        count_e = count_e + 1\n",
    "    elif char == \"i\":\n",
    "        count_i = count_i+ 1\n",
    "    elif char == \"o\":\n",
    "        count_o = count_o + 1\n",
    "    elif char == \"u\":\n",
    "        count_u = count_u + 1\n",
    "    else:\n",
    "        continue\n",
    "    \n",
    "print(f\"A appeared {count_a} times\")\n",
    "print(f\"E appeared {count_e} times\")\n",
    "print(f\"I appeared {count_i} times\")\n",
    "print(f\"O appeared {count_o} times\")\n",
    "print(f\"U appeared {count_u} times\")"
   ]
  },
  {
   "cell_type": "markdown",
   "id": "45a0c3c4",
   "metadata": {},
   "source": [
    "### Task12:\n",
    "You need to write a program that takes sequence of lines as input and prints the lines after making all characters in the sentence capitalized.\n",
    "\n",
    "Suppose the following input is supplied to the program:\n",
    "\n",
    "Hello world\n",
    "\n",
    "Practice makes perfect\n",
    "\n",
    "Then, the output should be:\n",
    "\n",
    "HELLO WORLD\n",
    "PRACTICE MAKES PERFECT"
   ]
  },
  {
   "cell_type": "code",
   "execution_count": 145,
   "id": "029fc3d6",
   "metadata": {},
   "outputs": [
    {
     "name": "stdout",
     "output_type": "stream",
     "text": [
      "Write How Many Line You Want To Write = 4\n",
      "Wirte 1 Sentence =Hello world\n",
      "Wirte 2 Sentence =Practice makes perfect\n",
      "Wirte 3 Sentence =how are you\n",
      "Wirte 4 Sentence =are you fine\n",
      "HELLO WORLD PRACTICE MAKES PERFECT HOW ARE YOU ARE YOU FINE "
     ]
    }
   ],
   "source": [
    "# Your code goes here\n",
    "sentence = []\n",
    "i=0\n",
    "\n",
    "No_of_sentence = int(input(\"Write How Many Line You Want To Write = \"))\n",
    "for No in range(0,No_of_sentence):\n",
    "    i=i+1\n",
    "    sentence.append(input(f\"Wirte {i} Sentence =\").upper())\n",
    "\n",
    "for num in sentence:\n",
    "    print(num,end=\" \")\n",
    "\n"
   ]
  },
  {
   "cell_type": "markdown",
   "id": "a374068f",
   "metadata": {},
   "source": [
    "### Task13:\n",
    "You need to write a code that takes a comma separated sequence of words as input and prints the words in a comma-separated sequence after sorting them alphabetically.\n",
    "\n",
    "Suppose the following input is supplied to the program:\n",
    "\n",
    "without,hello,bag,world\n",
    "\n",
    "Then, the output should be:\n",
    "\n",
    "bag,hello,without,world"
   ]
  },
  {
   "cell_type": "code",
   "execution_count": 150,
   "id": "488509b9",
   "metadata": {},
   "outputs": [
    {
     "name": "stdout",
     "output_type": "stream",
     "text": [
      "Write words = without,hello,bag,world\n",
      "bag,hello,without,world,"
     ]
    }
   ],
   "source": [
    "# Your code goes here\n",
    "user_input = input(\"Write words = \").split(\",\")\n",
    "user_input.sort()\n",
    "for user in user_input:\n",
    "    print(user,end=\",\")"
   ]
  },
  {
   "cell_type": "markdown",
   "id": "0d9422e7",
   "metadata": {},
   "source": [
    "### Task14:\n",
    "You need code a program that calculates and prints the value according to the given formula:\n",
    "P = Square root of [(2 * A * B)/C]\n",
    "\n",
    "Following are the fixed values of A and B:\n",
    "\n",
    "A is 50. B is 30.\n",
    "\n",
    "The values of the literal C should be taken as console input to your program in a comma-separated sequence.\n",
    "\n",
    "Example:\n",
    "Let us assume the following comma separated input sequence is given to the program:\n",
    "100,150,180\n",
    "\n",
    "The output of the program should be:\n",
    "18,22,24"
   ]
  },
  {
   "cell_type": "code",
   "execution_count": 161,
   "id": "1b6731be",
   "metadata": {},
   "outputs": [
    {
     "name": "stdout",
     "output_type": "stream",
     "text": [
      "Write words = 100,150,180\n",
      "18\n",
      "22\n",
      "24\n"
     ]
    }
   ],
   "source": [
    "# Your code goes here\n",
    "import math\n",
    "A=50\n",
    "B=30\n",
    "user_input = input(\"Write words = \").split(\",\")\n",
    "for B in user_input:\n",
    "    B = int(B)\n",
    "    Formula = round(math.sqrt((2 * A * B)/C))\n",
    "    print(Formula)"
   ]
  },
  {
   "cell_type": "markdown",
   "id": "87f9f13d",
   "metadata": {},
   "source": [
    "### Task15:\n",
    "You need to write a ocde in python that finds all such numbers which are divisible by 7 but are not a multiple of 5,\n",
    "between 2000 and 3200 (both included).\n",
    "\n",
    "Print the obtained numbers in a comma-separated sequence on a single line\n",
    "\n",
    "Hint: modulo operator, and/or operator, for loop /while loop"
   ]
  },
  {
   "cell_type": "code",
   "execution_count": 168,
   "id": "ba3d9d96",
   "metadata": {},
   "outputs": [
    {
     "name": "stdout",
     "output_type": "stream",
     "text": [
      "[2002, 2009, 2016, 2023, 2037, 2044, 2051, 2058, 2072, 2079, 2086, 2093, 2107, 2114, 2121, 2128, 2142, 2149, 2156, 2163, 2177, 2184, 2191, 2198, 2212, 2219, 2226, 2233, 2247, 2254, 2261, 2268, 2282, 2289, 2296, 2303, 2317, 2324, 2331, 2338, 2352, 2359, 2366, 2373, 2387, 2394, 2401, 2408, 2422, 2429, 2436, 2443, 2457, 2464, 2471, 2478, 2492, 2499, 2506, 2513, 2527, 2534, 2541, 2548, 2562, 2569, 2576, 2583, 2597, 2604, 2611, 2618, 2632, 2639, 2646, 2653, 2667, 2674, 2681, 2688, 2702, 2709, 2716, 2723, 2737, 2744, 2751, 2758, 2772, 2779, 2786, 2793, 2807, 2814, 2821, 2828, 2842, 2849, 2856, 2863, 2877, 2884, 2891, 2898, 2912, 2919, 2926, 2933, 2947, 2954, 2961, 2968, 2982, 2989, 2996, 3003, 3017, 3024, 3031, 3038, 3052, 3059, 3066, 3073, 3087, 3094, 3101, 3108, 3122, 3129, 3136, 3143, 3157, 3164, 3171, 3178, 3192, 3199]\n"
     ]
    }
   ],
   "source": [
    "# Your code goes here\n",
    "Numbers = []\n",
    "for num in range(2000,3200):\n",
    "    if num % 7 == 0 and num % 5 != 0:\n",
    "        Numbers.append(num)\n",
    "    else:\n",
    "        continue\n",
    "        \n",
    "print(Numbers)"
   ]
  },
  {
   "cell_type": "markdown",
   "id": "f75c81d1",
   "metadata": {},
   "source": [
    "### Task16:\n",
    "With a given integral number n, write a program to generate a dictionary that contains (i, i*i) such that is an integral number between 1 and n (both included). and then the program should print the dictionary.\n",
    "\n",
    "Suppose the following input is supplied to the program:\n",
    "\n",
    "8\n",
    "\n",
    "Then, the output should be:\n",
    "\n",
    "{1: 1, 2: 4, 3: 9, 4: 16, 5: 25, 6: 36, 7: 49, 8: 64}"
   ]
  },
  {
   "cell_type": "code",
   "execution_count": 188,
   "id": "451bacfc",
   "metadata": {},
   "outputs": [
    {
     "name": "stdout",
     "output_type": "stream",
     "text": [
      "Write A No = 8\n",
      "{1: 1, 2: 4, 3: 9, 4: 16, 5: 25, 6: 36, 7: 49, 8: 64}\n"
     ]
    }
   ],
   "source": [
    "# Your code goes here\n",
    "dict = {}\n",
    "i=1\n",
    "user_input = int(input(\"Write A No = \"))\n",
    "for i in range(user_input):\n",
    "    i=i+1\n",
    "    dict[i]=i*i\n",
    "\n",
    "print(dict )"
   ]
  },
  {
   "cell_type": "markdown",
   "id": "bd2b39a0",
   "metadata": {},
   "source": [
    "### Task17:\n",
    "You need to write a code which accepts a sequence of comma separated 4 digit binary numbers as its input and then check whether they are divisible by 5 or not. \n",
    "\n",
    "The numbers that are divisible by 5 are to be printed in a comma separated sequence.\n",
    "\n",
    "Example:\n",
    "\n",
    "0100,0011,1010,1001\n",
    "\n",
    "Then the output should be:\n",
    "1010\n",
    "\n",
    "Reference: \n",
    "1) https://www.datacamp.com/.../python-data-type-conversion\n",
    "\n",
    "2) https://stackoverflow.com/questions/21765779/converting-binary-to-decimal-integer-output?fbclid=IwAR3DD_oiq5pn99IjyxSJgojvB5W6M4JqQtv4EUl_IF_DtmuRXlP-DswcKAA"
   ]
  },
  {
   "cell_type": "code",
   "execution_count": 191,
   "id": "d88c2527",
   "metadata": {},
   "outputs": [
    {
     "name": "stdout",
     "output_type": "stream",
     "text": [
      "Write A No = 1010,1110,1000\n",
      "1010\n",
      "1110\n",
      "1000\n"
     ]
    }
   ],
   "source": [
    "# Your code goes here\n",
    "user_input = input(\"Write A No = \").split(\",\")\n",
    "\n",
    "for No in user_input:\n",
    "    if No.startswith(\"0\"):\n",
    "        continue\n",
    "    elif int(No) % 5 == 0 :\n",
    "        print(No)"
   ]
  },
  {
   "cell_type": "code",
   "execution_count": null,
   "id": "aab14430",
   "metadata": {},
   "outputs": [],
   "source": []
  }
 ],
 "metadata": {
  "kernelspec": {
   "display_name": "Python 3 (ipykernel)",
   "language": "python",
   "name": "python3"
  },
  "language_info": {
   "codemirror_mode": {
    "name": "ipython",
    "version": 3
   },
   "file_extension": ".py",
   "mimetype": "text/x-python",
   "name": "python",
   "nbconvert_exporter": "python",
   "pygments_lexer": "ipython3",
   "version": "3.9.12"
  }
 },
 "nbformat": 4,
 "nbformat_minor": 5
}
